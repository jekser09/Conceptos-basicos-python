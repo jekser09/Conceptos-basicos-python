{
  "nbformat": 4,
  "nbformat_minor": 0,
  "metadata": {
    "colab": {
      "name": "TallerMetodos.ipynb",
      "provenance": [],
      "collapsed_sections": []
    },
    "kernelspec": {
      "name": "python3",
      "display_name": "Python 3"
    },
    "language_info": {
      "name": "python"
    }
  },
  "cells": [
    {
      "cell_type": "code",
      "execution_count": 75,
      "metadata": {
        "colab": {
          "base_uri": "https://localhost:8080/"
        },
        "id": "rR08uGFqHEbK",
        "outputId": "1e13c71b-89f8-42e3-84f3-03e2bc69bcc3"
      },
      "outputs": [
        {
          "output_type": "stream",
          "name": "stdout",
          "text": [
            "Eq(2*x + y, 1)\n"
          ]
        },
        {
          "output_type": "execute_result",
          "data": {
            "text/plain": [
              "{x: 9/25, y: 7/25, z: 4/25}"
            ]
          },
          "metadata": {},
          "execution_count": 75
        }
      ],
      "source": [
        "import sympy\n",
        "from sympy import Eq, solve \n",
        "'''\n",
        "# PUNTO 1.\n",
        "bandera=False\n",
        "while bandera==False:\n",
        "  numero = input(\"Digite un número de 6 cifras: \")\n",
        "  if numero.isdigit():\n",
        "    if len(numero)==6:\n",
        "      pares=[]      \n",
        "      for i in range(len(numero)):\n",
        "        if int(numero[i])%2==0:\n",
        "          pares.append(numero[i])\n",
        "      print(\"Numeros pares:\\n\",pares)    \n",
        "      bandera=True\n",
        "    else:\n",
        "      print('Solo numeros de 6 digitos')\n",
        "  else:\n",
        "    print(\"no es un numero\")\n",
        "\n",
        "# PUNTO 2\n",
        "bandera=False\n",
        "while bandera==False:\n",
        "  numero = input(\"Digite un número de 5 cifras: \")\n",
        "  if numero.isdigit():    \n",
        "    if len(numero)==5:\n",
        "      numOri=int(numero)\n",
        "      n=int(numero)\n",
        "      numero=0\n",
        "      while n!=0:\n",
        "        numero = 10*numero+n % 10\n",
        "        n//=10\n",
        "      if numOri == numero:        \n",
        "        print(numOri,': es capicúa')\n",
        "        bandera=True\n",
        "      else:\n",
        "        bandera=True\n",
        "        print(numOri,': no es capicúa')\n",
        "    else:\n",
        "      print('Solo numeros de 5 digitos')\n",
        "  else:\n",
        "    print(\"no es un numero\")\n",
        "\n",
        "# PUNTO 3\n",
        "bandera=False\n",
        "while bandera==False:\n",
        "  numero=int(input(\"Escriba un numero: \"))\n",
        "  if numero>=2:\n",
        "    c=0\n",
        "    while numero!=1:    \n",
        "      if numero%2==0:\n",
        "        numero=numero/2\n",
        "        c=c+1\n",
        "        #print(numero)         \n",
        "      else:\n",
        "        numero=3*numero+1\n",
        "        c=c+1\n",
        "        #print(numero)        \n",
        "    print(\"Para llegar a 1 se hicieron\",c,\" iteraciones\")\n",
        "    bandera=True\n",
        "  else:\n",
        "    print('Numeros mayores a 2')\n",
        "\n",
        "#PUNTO 4\n",
        "numero=input(\"Digite un numero de 5 cifras: \")\n",
        "if numero.isdigit() and len(numero)==5:\n",
        "  n=[]\n",
        "  for i in range(len(numero)):\n",
        "    n.append(numero[i])\n",
        "  n[1]=numero[3]\n",
        "  n[3]=numero[1]\n",
        "  p=''\n",
        "  for i in range(len(n)):\n",
        "    p=p+n[i]\n",
        "  print(p)\n",
        "else:\n",
        "  print('Solo numeros de 5 cifras')\n",
        "  \n",
        "#PUNTO 5\n",
        "x, y, z=sympy.symbols('x y z')\n",
        "eq1=Eq(2*x+y,1)\n",
        "eq2=Eq(3*y+z,1)\n",
        "eq3=Eq(x+4*z,1)\n",
        "solucion=solve((eq1,eq2,eq3),(x,y,z))\n",
        "solucion\n",
        "'''"
      ]
    }
  ]
}